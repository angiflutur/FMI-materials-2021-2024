{
 "cells": [
  {
   "cell_type": "markdown",
   "id": "3acc7d14",
   "metadata": {},
   "source": [
    "## Retele de perceptroni - Pytorch"
   ]
  },
  {
   "cell_type": "markdown",
   "id": "5a389f77",
   "metadata": {},
   "source": [
    "### Install Pytorch"
   ]
  }
 ],
 "metadata": {
  "kernelspec": {
   "display_name": "Python 3 (ipykernel)",
   "language": "python",
   "name": "python3"
  },
  "language_info": {
   "codemirror_mode": {
    "name": "ipython",
    "version": 3
   },
   "file_extension": ".py",
   "mimetype": "text/x-python",
   "name": "python",
   "nbconvert_exporter": "python",
   "pygments_lexer": "ipython3",
   "version": "3.10.6"
  }
 },
 "nbformat": 4,
 "nbformat_minor": 5
}
